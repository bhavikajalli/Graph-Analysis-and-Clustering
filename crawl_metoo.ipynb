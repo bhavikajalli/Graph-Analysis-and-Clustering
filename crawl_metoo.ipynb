{
 "cells": [
  {
   "cell_type": "code",
   "execution_count": 63,
   "metadata": {
    "collapsed": true
   },
   "outputs": [],
   "source": [
    "import tweepy\n",
    "import json\n",
    "from datetime import timedelta\n",
    "consumer_key = \"XXXXXXXXXXXXXXXXXXXXXXXXXX\"\n",
    "consumer_secret = \"XXXXXXXXXXXXXXXXXXXXXX\"\n",
    "access_token = \"XXXXXXXXXXXXXXXXXXXXXXXX\"\n",
    "access_token_secret = \"XXXXXXXXXXXXXXXXXXXXXXXXXXXXXX\""
   ]
  },
  {
   "cell_type": "code",
   "execution_count": 64,
   "metadata": {
    "collapsed": true
   },
   "outputs": [],
   "source": [
    "# Creating the authentication object\n",
    "auth = tweepy.OAuthHandler(consumer_key, consumer_secret)\n",
    "# Setting your access token and secret\n",
    "auth.set_access_token(access_token, access_token_secret)\n",
    "# Creating the API object while passing in auth information\n",
    "api = tweepy.API(auth) "
   ]
  },
  {
   "cell_type": "code",
   "execution_count": 65,
   "metadata": {},
   "outputs": [
    {
     "name": "stdout",
     "output_type": "stream",
     "text": [
      "1000\n",
      "2000\n",
      "3000\n",
      "4000\n",
      "5000\n",
      "6000\n",
      "7000\n",
      "8000\n",
      "9000\n",
      "10000\n",
      "11000\n",
      "12000\n",
      "13000\n",
      "14000\n",
      "15000\n",
      "16000\n",
      "17000\n",
      "18000\n",
      "19000\n",
      "20000\n",
      "21000\n",
      "22000\n",
      "23000\n",
      "24000\n",
      "25000\n",
      "26000\n",
      "27000\n",
      "28000\n",
      "29000\n",
      "30000\n",
      "31000\n",
      "32000\n",
      "33000\n",
      "34000\n",
      "35000\n",
      "36000\n",
      "37000\n",
      "38000\n",
      "39000\n",
      "40000\n",
      "41000\n",
      "42000\n",
      "43000\n",
      "44000\n",
      "45000\n",
      "46000\n",
      "47000\n",
      "48000\n",
      "49000\n",
      "50000\n",
      "51000\n",
      "52000\n",
      "53000\n",
      "54000\n",
      "55000\n",
      "56000\n",
      "57000\n",
      "58000\n",
      "59000\n",
      "60000\n",
      "61000\n",
      "62000\n",
      "63000\n",
      "64000\n",
      "65000\n",
      "66000\n",
      "67000\n"
     ]
    }
   ],
   "source": [
    "outfile = open('guncontrol.txt', 'w')\n",
    "i = 0\n",
    "for status in tweepy.Cursor(api.search,\n",
    "                           q=\"#MeToo\",\n",
    "                           since='2018-03-01', \n",
    "                           until='2018-03-11',\n",
    "                           count=280,\n",
    "                           result_type='recent',\n",
    "                           include_entities=True,\n",
    "                           monitor_rate_limit=True, \n",
    "                           wait_on_rate_limit=True,\n",
    "                           lang=\"en\").items():\n",
    "\n",
    "    eastern_time = status.created_at - timedelta(hours=4)\n",
    "    edt_time = eastern_time.strftime('%Y-%m-%d %H:%M')\n",
    "    \n",
    "    i = i+1\n",
    "    if i%1000 == 0:\n",
    "        print(i)\n",
    "    data = {}\n",
    "    data['name'] = status.user.name\n",
    "    data['screen_name'] = status.user.screen_name\n",
    "    data['user_ID'] = status.user.id\n",
    "    data['location'] = status.user.location\n",
    "    data['text'] = status.text\n",
    "    data['created_at'] = edt_time\n",
    "    data['retweet_count'] = status.retweet_count\n",
    "    data['replied_to'] = status.in_reply_to_screen_name\n",
    "    hashtags = []\n",
    "    mentions_tweet = []\n",
    "    if status.place != None:        \n",
    "        data['tweet_location_country'] = status.place.country\n",
    "        data['tweet_location_city'] = status.place.full_name\n",
    "    if status.entities != None:\n",
    "        htags = status.entities.get('hashtags')\n",
    "        for htag in htags:\n",
    "            hashtags.append(htag['text'])\n",
    "        data['hashtags_in_the_tweet'] = hashtags   \n",
    "        \n",
    "        mentions = status.entities.get('user_mentions')\n",
    "        for mention in mentions:\n",
    "            mentions_tweet.append(mention['screen_name'])\n",
    "        data['Mentions_in_the_tweet'] = mentions_tweet\n",
    "\n",
    "    outfile.write(json.dumps(data))\n",
    "    outfile.write('\\n')\n",
    " \n",
    "outfile.close()"
   ]
  },
  {
   "cell_type": "code",
   "execution_count": 62,
   "metadata": {},
   "outputs": [
    {
     "name": "stdout",
     "output_type": "stream",
     "text": [
      "{\"name\": \"Ms. Lonnie \\ud83e\\udd8b\", \"screen_name\": \"Lon_S_J\", \"user_ID\": 853711965541105664, \"location\": \"New York, USA\", \"text\": \"RT @RoseMarie4Real: Sad Rose Marie wasn't in @TheAcademy IN MEMORIAM. 1929 saw 1st Oscars &amp; her 1st film. Her #METOO moment was 25 yrs late\\u2026\", \"created_at\": \"2018-03-05 19:59\", \"retweet_count\": 1217, \"replied_to\": null, \"hashtags_in_the_tweet\": [\"METOO\"], \"Mentions_in_the_tweet\": [\"RoseMarie4Real\", \"TheAcademy\"]}\n",
      "\n",
      "Ms. Lonnie 🦋\n",
      "68724\n"
     ]
    }
   ],
   "source": [
    "import json\n",
    "ex = open('metoo_mar04_mar05.txt','r')\n",
    "x = ex.readlines()\n",
    "for line in x:\n",
    "    print(line)\n",
    "    dic = json.loads(line)\n",
    "    print(dic[\"name\"])\n",
    "    break\n",
    "print(len(x))"
   ]
  },
  {
   "cell_type": "code",
   "execution_count": null,
   "metadata": {
    "collapsed": true
   },
   "outputs": [],
   "source": []
  }
 ],
 "metadata": {
  "kernelspec": {
   "display_name": "Python 3",
   "language": "python",
   "name": "python3"
  },
  "language_info": {
   "codemirror_mode": {
    "name": "ipython",
    "version": 3
   },
   "file_extension": ".py",
   "mimetype": "text/x-python",
   "name": "python",
   "nbconvert_exporter": "python",
   "pygments_lexer": "ipython3",
   "version": "3.6.3"
  }
 },
 "nbformat": 4,
 "nbformat_minor": 2
}
